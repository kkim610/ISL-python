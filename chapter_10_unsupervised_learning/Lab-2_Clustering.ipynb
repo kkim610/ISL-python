{
 "metadata": {
  "name": "",
  "signature": "sha256:8653812242bde57171f2b7e88848f1d74cb54101e1489db75530a8e433c35c9d"
 },
 "nbformat": 3,
 "nbformat_minor": 0,
 "worksheets": [
  {
   "cells": [
    {
     "cell_type": "heading",
     "level": 2,
     "metadata": {},
     "source": [
      "10.5.1 K-Means Clustering"
     ]
    },
    {
     "cell_type": "code",
     "collapsed": false,
     "input": [],
     "language": "python",
     "metadata": {},
     "outputs": []
    }
   ],
   "metadata": {}
  }
 ]
}