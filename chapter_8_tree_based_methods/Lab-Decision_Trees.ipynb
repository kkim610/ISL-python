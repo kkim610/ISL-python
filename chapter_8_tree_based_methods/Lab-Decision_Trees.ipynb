{
 "metadata": {
  "name": "",
  "signature": "sha256:db68520ff61b833472c43cea239b8d6521608fabc13ac9b323d094defcf9929e"
 },
 "nbformat": 3,
 "nbformat_minor": 0,
 "worksheets": [
  {
   "cells": [
    {
     "cell_type": "heading",
     "level": 2,
     "metadata": {},
     "source": [
      "8.3.1 Fitting Classification Trees"
     ]
    },
    {
     "cell_type": "code",
     "collapsed": false,
     "input": [],
     "language": "python",
     "metadata": {},
     "outputs": []
    }
   ],
   "metadata": {}
  }
 ]
}