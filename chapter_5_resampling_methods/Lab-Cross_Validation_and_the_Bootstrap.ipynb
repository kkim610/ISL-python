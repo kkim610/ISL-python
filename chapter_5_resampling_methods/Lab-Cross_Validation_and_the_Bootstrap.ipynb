{
 "metadata": {
  "name": "",
  "signature": "sha256:91b4784ecc77dad5b18c33fbfaba3c2a435d903fbac111eb9d3e5e520bec493e"
 },
 "nbformat": 3,
 "nbformat_minor": 0,
 "worksheets": [
  {
   "cells": [
    {
     "cell_type": "heading",
     "level": 2,
     "metadata": {},
     "source": [
      "5.3.1 The Validation Set Approach"
     ]
    },
    {
     "cell_type": "code",
     "collapsed": false,
     "input": [],
     "language": "python",
     "metadata": {},
     "outputs": []
    }
   ],
   "metadata": {}
  }
 ]
}