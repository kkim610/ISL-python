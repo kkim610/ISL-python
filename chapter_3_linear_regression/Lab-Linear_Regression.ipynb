{
 "metadata": {
  "name": "",
  "signature": "sha256:3ce082c6b3fbc8a3e1194b7b37fda7de774a26848f65ccedd010bc24be7c37c5"
 },
 "nbformat": 3,
 "nbformat_minor": 0,
 "worksheets": [
  {
   "cells": [
    {
     "cell_type": "heading",
     "level": 2,
     "metadata": {},
     "source": [
      "3.6.1 Libraries"
     ]
    },
    {
     "cell_type": "code",
     "collapsed": false,
     "input": [],
     "language": "python",
     "metadata": {},
     "outputs": []
    }
   ],
   "metadata": {}
  }
 ]
}