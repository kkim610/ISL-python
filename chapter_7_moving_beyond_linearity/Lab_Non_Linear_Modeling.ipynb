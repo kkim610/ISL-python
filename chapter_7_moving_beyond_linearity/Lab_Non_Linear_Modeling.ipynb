{
 "metadata": {
  "name": "",
  "signature": "sha256:d5c80d617ab1aa2a4bd2e7f095e2ab60322abfcbe0ba46d502bf5a33571a17ee"
 },
 "nbformat": 3,
 "nbformat_minor": 0,
 "worksheets": [
  {
   "cells": [
    {
     "cell_type": "heading",
     "level": 2,
     "metadata": {},
     "source": [
      "7.8.1 Polynomial Regression and Step Functions"
     ]
    },
    {
     "cell_type": "code",
     "collapsed": false,
     "input": [],
     "language": "python",
     "metadata": {},
     "outputs": []
    }
   ],
   "metadata": {}
  }
 ]
}