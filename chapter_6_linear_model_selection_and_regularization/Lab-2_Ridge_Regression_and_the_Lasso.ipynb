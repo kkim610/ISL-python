{
 "metadata": {
  "name": "",
  "signature": "sha256:6ba36529831299ec719c052e5090823efa2d7d506dfab46cf7b31ba783db1e1d"
 },
 "nbformat": 3,
 "nbformat_minor": 0,
 "worksheets": [
  {
   "cells": [
    {
     "cell_type": "heading",
     "level": 2,
     "metadata": {},
     "source": [
      "6.6.1 Ridge Regression"
     ]
    },
    {
     "cell_type": "code",
     "collapsed": false,
     "input": [],
     "language": "python",
     "metadata": {},
     "outputs": []
    }
   ],
   "metadata": {}
  }
 ]
}