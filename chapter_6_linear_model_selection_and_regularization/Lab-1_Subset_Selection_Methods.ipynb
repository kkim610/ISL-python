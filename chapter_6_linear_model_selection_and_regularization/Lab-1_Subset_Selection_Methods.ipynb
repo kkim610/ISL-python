{
 "metadata": {
  "name": "",
  "signature": "sha256:6d9565cea653af3eb369d90f14202b500fbf0fa45a6a134db15545de288a0149"
 },
 "nbformat": 3,
 "nbformat_minor": 0,
 "worksheets": [
  {
   "cells": [
    {
     "cell_type": "heading",
     "level": 2,
     "metadata": {},
     "source": [
      "6.5.1 Best Subset Selection"
     ]
    },
    {
     "cell_type": "code",
     "collapsed": false,
     "input": [],
     "language": "python",
     "metadata": {},
     "outputs": []
    }
   ],
   "metadata": {}
  }
 ]
}