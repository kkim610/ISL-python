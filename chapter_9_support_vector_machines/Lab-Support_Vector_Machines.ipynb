{
 "metadata": {
  "name": "",
  "signature": "sha256:a737a0222b864883ba924010778841bafd851a2495d4b6311f4baebade1129ff"
 },
 "nbformat": 3,
 "nbformat_minor": 0,
 "worksheets": [
  {
   "cells": [
    {
     "cell_type": "heading",
     "level": 2,
     "metadata": {},
     "source": [
      "9.6.1 Support Vector Classifier"
     ]
    },
    {
     "cell_type": "code",
     "collapsed": false,
     "input": [],
     "language": "python",
     "metadata": {},
     "outputs": []
    }
   ],
   "metadata": {}
  }
 ]
}