{
 "metadata": {
  "name": "",
  "signature": "sha256:af53cf43c11d5d365a0c0e238443340504e73bb3270f504d3ca9435ec77aa893"
 },
 "nbformat": 3,
 "nbformat_minor": 0,
 "worksheets": [
  {
   "cells": [
    {
     "cell_type": "heading",
     "level": 2,
     "metadata": {},
     "source": [
      "4.6.1 The Stock Market Data"
     ]
    },
    {
     "cell_type": "code",
     "collapsed": false,
     "input": [],
     "language": "python",
     "metadata": {},
     "outputs": []
    }
   ],
   "metadata": {}
  }
 ]
}